{
 "cells": [
  {
   "cell_type": "code",
   "execution_count": 1,
   "id": "b229c79b-e3a7-41fa-aabf-660ea97fdb24",
   "metadata": {},
   "outputs": [
    {
     "name": "stdout",
     "output_type": "stream",
     "text": [
      "WARNING:tensorflow:From C:\\ProgramData\\anaconda3\\Lib\\site-packages\\keras\\src\\losses.py:2976: The name tf.losses.sparse_softmax_cross_entropy is deprecated. Please use tf.compat.v1.losses.sparse_softmax_cross_entropy instead.\n",
      "\n"
     ]
    }
   ],
   "source": [
    "import pandas as pd\n",
    "import numpy as np\n",
    "\n",
    "# Plotting libraries\n",
    "import matplotlib.pyplot as plt\n",
    "\n",
    "\n",
    "# SKLearn libraries\n",
    "from sklearn.preprocessing import LabelEncoder\n",
    "from sklearn.model_selection import train_test_split\n",
    "\n",
    "# Tensorflow libraries\n",
    "import tensorflow as tf\n",
    "from tensorflow import keras\n",
    "from tensorflow.keras.models import Sequential"
   ]
  },
  {
   "cell_type": "code",
   "execution_count": 2,
   "id": "e794c65f-c358-48d3-ae83-ab98e90a1683",
   "metadata": {},
   "outputs": [],
   "source": [
    "#Loading the Dataset\n",
    "iris_data = pd.read_csv('IRIS.csv')"
   ]
  },
  {
   "cell_type": "code",
   "execution_count": 3,
   "id": "4ff06f70-035c-45bd-804c-21cec5583c79",
   "metadata": {},
   "outputs": [
    {
     "data": {
      "text/html": [
       "<div>\n",
       "<style scoped>\n",
       "    .dataframe tbody tr th:only-of-type {\n",
       "        vertical-align: middle;\n",
       "    }\n",
       "\n",
       "    .dataframe tbody tr th {\n",
       "        vertical-align: top;\n",
       "    }\n",
       "\n",
       "    .dataframe thead th {\n",
       "        text-align: right;\n",
       "    }\n",
       "</style>\n",
       "<table border=\"1\" class=\"dataframe\">\n",
       "  <thead>\n",
       "    <tr style=\"text-align: right;\">\n",
       "      <th></th>\n",
       "      <th>sepal_length</th>\n",
       "      <th>sepal_width</th>\n",
       "      <th>petal_length</th>\n",
       "      <th>petal_width</th>\n",
       "      <th>species</th>\n",
       "    </tr>\n",
       "  </thead>\n",
       "  <tbody>\n",
       "    <tr>\n",
       "      <th>0</th>\n",
       "      <td>5.1</td>\n",
       "      <td>3.5</td>\n",
       "      <td>1.4</td>\n",
       "      <td>0.2</td>\n",
       "      <td>Iris-setosa</td>\n",
       "    </tr>\n",
       "    <tr>\n",
       "      <th>1</th>\n",
       "      <td>4.9</td>\n",
       "      <td>3.0</td>\n",
       "      <td>1.4</td>\n",
       "      <td>0.2</td>\n",
       "      <td>Iris-setosa</td>\n",
       "    </tr>\n",
       "    <tr>\n",
       "      <th>2</th>\n",
       "      <td>4.7</td>\n",
       "      <td>3.2</td>\n",
       "      <td>1.3</td>\n",
       "      <td>0.2</td>\n",
       "      <td>Iris-setosa</td>\n",
       "    </tr>\n",
       "    <tr>\n",
       "      <th>3</th>\n",
       "      <td>4.6</td>\n",
       "      <td>3.1</td>\n",
       "      <td>1.5</td>\n",
       "      <td>0.2</td>\n",
       "      <td>Iris-setosa</td>\n",
       "    </tr>\n",
       "    <tr>\n",
       "      <th>4</th>\n",
       "      <td>5.0</td>\n",
       "      <td>3.6</td>\n",
       "      <td>1.4</td>\n",
       "      <td>0.2</td>\n",
       "      <td>Iris-setosa</td>\n",
       "    </tr>\n",
       "  </tbody>\n",
       "</table>\n",
       "</div>"
      ],
      "text/plain": [
       "   sepal_length  sepal_width  petal_length  petal_width      species\n",
       "0           5.1          3.5           1.4          0.2  Iris-setosa\n",
       "1           4.9          3.0           1.4          0.2  Iris-setosa\n",
       "2           4.7          3.2           1.3          0.2  Iris-setosa\n",
       "3           4.6          3.1           1.5          0.2  Iris-setosa\n",
       "4           5.0          3.6           1.4          0.2  Iris-setosa"
      ]
     },
     "execution_count": 3,
     "metadata": {},
     "output_type": "execute_result"
    }
   ],
   "source": [
    "iris_data.head()"
   ]
  },
  {
   "cell_type": "code",
   "execution_count": 4,
   "id": "29fb7021-f4ed-4193-814a-493cb8ca8468",
   "metadata": {},
   "outputs": [
    {
     "data": {
      "text/plain": [
       "(150, 5)"
      ]
     },
     "execution_count": 4,
     "metadata": {},
     "output_type": "execute_result"
    }
   ],
   "source": [
    "iris_data.shape"
   ]
  },
  {
   "cell_type": "code",
   "execution_count": 5,
   "id": "3e010201-07c9-4a66-87b3-de77bad27330",
   "metadata": {},
   "outputs": [
    {
     "name": "stdout",
     "output_type": "stream",
     "text": [
      "<class 'pandas.core.frame.DataFrame'>\n",
      "RangeIndex: 150 entries, 0 to 149\n",
      "Data columns (total 5 columns):\n",
      " #   Column        Non-Null Count  Dtype  \n",
      "---  ------        --------------  -----  \n",
      " 0   sepal_length  150 non-null    float64\n",
      " 1   sepal_width   150 non-null    float64\n",
      " 2   petal_length  150 non-null    float64\n",
      " 3   petal_width   150 non-null    float64\n",
      " 4   species       150 non-null    object \n",
      "dtypes: float64(4), object(1)\n",
      "memory usage: 6.0+ KB\n"
     ]
    }
   ],
   "source": [
    "iris_data.info()"
   ]
  },
  {
   "cell_type": "code",
   "execution_count": 6,
   "id": "a13e4382-1d00-4289-b362-955f6a681ddd",
   "metadata": {},
   "outputs": [
    {
     "data": {
      "text/html": [
       "<div>\n",
       "<style scoped>\n",
       "    .dataframe tbody tr th:only-of-type {\n",
       "        vertical-align: middle;\n",
       "    }\n",
       "\n",
       "    .dataframe tbody tr th {\n",
       "        vertical-align: top;\n",
       "    }\n",
       "\n",
       "    .dataframe thead th {\n",
       "        text-align: right;\n",
       "    }\n",
       "</style>\n",
       "<table border=\"1\" class=\"dataframe\">\n",
       "  <thead>\n",
       "    <tr style=\"text-align: right;\">\n",
       "      <th></th>\n",
       "      <th>sepal_length</th>\n",
       "      <th>sepal_width</th>\n",
       "      <th>petal_length</th>\n",
       "      <th>petal_width</th>\n",
       "    </tr>\n",
       "  </thead>\n",
       "  <tbody>\n",
       "    <tr>\n",
       "      <th>count</th>\n",
       "      <td>150.000000</td>\n",
       "      <td>150.000000</td>\n",
       "      <td>150.000000</td>\n",
       "      <td>150.000000</td>\n",
       "    </tr>\n",
       "    <tr>\n",
       "      <th>mean</th>\n",
       "      <td>5.843333</td>\n",
       "      <td>3.054000</td>\n",
       "      <td>3.758667</td>\n",
       "      <td>1.198667</td>\n",
       "    </tr>\n",
       "    <tr>\n",
       "      <th>std</th>\n",
       "      <td>0.828066</td>\n",
       "      <td>0.433594</td>\n",
       "      <td>1.764420</td>\n",
       "      <td>0.763161</td>\n",
       "    </tr>\n",
       "    <tr>\n",
       "      <th>min</th>\n",
       "      <td>4.300000</td>\n",
       "      <td>2.000000</td>\n",
       "      <td>1.000000</td>\n",
       "      <td>0.100000</td>\n",
       "    </tr>\n",
       "    <tr>\n",
       "      <th>25%</th>\n",
       "      <td>5.100000</td>\n",
       "      <td>2.800000</td>\n",
       "      <td>1.600000</td>\n",
       "      <td>0.300000</td>\n",
       "    </tr>\n",
       "    <tr>\n",
       "      <th>50%</th>\n",
       "      <td>5.800000</td>\n",
       "      <td>3.000000</td>\n",
       "      <td>4.350000</td>\n",
       "      <td>1.300000</td>\n",
       "    </tr>\n",
       "    <tr>\n",
       "      <th>75%</th>\n",
       "      <td>6.400000</td>\n",
       "      <td>3.300000</td>\n",
       "      <td>5.100000</td>\n",
       "      <td>1.800000</td>\n",
       "    </tr>\n",
       "    <tr>\n",
       "      <th>max</th>\n",
       "      <td>7.900000</td>\n",
       "      <td>4.400000</td>\n",
       "      <td>6.900000</td>\n",
       "      <td>2.500000</td>\n",
       "    </tr>\n",
       "  </tbody>\n",
       "</table>\n",
       "</div>"
      ],
      "text/plain": [
       "       sepal_length  sepal_width  petal_length  petal_width\n",
       "count    150.000000   150.000000    150.000000   150.000000\n",
       "mean       5.843333     3.054000      3.758667     1.198667\n",
       "std        0.828066     0.433594      1.764420     0.763161\n",
       "min        4.300000     2.000000      1.000000     0.100000\n",
       "25%        5.100000     2.800000      1.600000     0.300000\n",
       "50%        5.800000     3.000000      4.350000     1.300000\n",
       "75%        6.400000     3.300000      5.100000     1.800000\n",
       "max        7.900000     4.400000      6.900000     2.500000"
      ]
     },
     "execution_count": 6,
     "metadata": {},
     "output_type": "execute_result"
    }
   ],
   "source": [
    "iris_data.describe()"
   ]
  },
  {
   "cell_type": "code",
   "execution_count": 7,
   "id": "688e8266-c693-482e-a5dd-9d214ddd99a9",
   "metadata": {},
   "outputs": [
    {
     "data": {
      "text/plain": [
       "sepal_length    0\n",
       "sepal_width     0\n",
       "petal_length    0\n",
       "petal_width     0\n",
       "species         0\n",
       "dtype: int64"
      ]
     },
     "execution_count": 7,
     "metadata": {},
     "output_type": "execute_result"
    }
   ],
   "source": [
    "iris_data.isnull().sum()"
   ]
  },
  {
   "cell_type": "code",
   "execution_count": 8,
   "id": "b251b01c-7753-4e08-a17d-4a297fb913a3",
   "metadata": {},
   "outputs": [],
   "source": [
    "#Dataset Preparation\n",
    "X = iris_data.loc[:, iris_data.columns != 'species']\n",
    "y = iris_data.loc[:, ['species']]"
   ]
  },
  {
   "cell_type": "code",
   "execution_count": 9,
   "id": "84267840-677e-425b-be2e-ff59721c476d",
   "metadata": {},
   "outputs": [
    {
     "name": "stderr",
     "output_type": "stream",
     "text": [
      "C:\\ProgramData\\anaconda3\\Lib\\site-packages\\sklearn\\preprocessing\\_label.py:116: DataConversionWarning: A column-vector y was passed when a 1d array was expected. Please change the shape of y to (n_samples, ), for example using ravel().\n",
      "  y = column_or_1d(y, warn=True)\n"
     ]
    }
   ],
   "source": [
    "y_en = LabelEncoder().fit_transform(y)\n",
    "# Converting the label into a matrix form\n",
    "y_label = tf.keras.utils.to_categorical(y_en)"
   ]
  },
  {
   "cell_type": "code",
   "execution_count": 10,
   "id": "4f2118d1-47e4-4dc0-a156-7e564f263390",
   "metadata": {},
   "outputs": [],
   "source": [
    "#Dataset will be prepared by the tensorflow from_tensor_slice() method.\n",
    "\n",
    "X_train, X_test, y_train, y_test = train_test_split(X, y_label, test_size=0.3)"
   ]
  },
  {
   "cell_type": "code",
   "execution_count": 12,
   "id": "ffb38656-0ef7-48d0-9750-13a09c77a44b",
   "metadata": {},
   "outputs": [
    {
     "name": "stdout",
     "output_type": "stream",
     "text": [
      "Train shape : (105, 4), Y Train : (105, 3)\n"
     ]
    }
   ],
   "source": [
    "print(f\"Train shape : {X_train.shape}, Y Train : {y_train.shape}\")"
   ]
  },
  {
   "cell_type": "code",
   "execution_count": 28,
   "id": "cdfd56bc-e69e-44ef-9e48-19a3f9d0ea97",
   "metadata": {},
   "outputs": [],
   "source": [
    "#Setting Up the Model with Sigmoid Function\n",
    "Model = Sequential([\n",
    "        keras.layers.Input(shape=X_train.shape[1:]),\n",
    "        keras.layers.Dense(1000, activation='relu'),\n",
    "        keras.layers.Dense(500, activation='relu',),\n",
    "        keras.layers.Dense(300, activation='relu'),\n",
    "        keras.layers.Dropout(0.2),\n",
    "        keras.layers.Dense(3, activation='sigmoid')\n",
    "    ])"
   ]
  },
  {
   "cell_type": "code",
   "execution_count": 29,
   "id": "dd61f713-3f44-4a21-b756-80abcbb5499a",
   "metadata": {},
   "outputs": [
    {
     "name": "stdout",
     "output_type": "stream",
     "text": [
      "Model: \"sequential_2\"\n",
      "_________________________________________________________________\n",
      " Layer (type)                Output Shape              Param #   \n",
      "=================================================================\n",
      " dense_8 (Dense)             (None, 1000)              5000      \n",
      "                                                                 \n",
      " dense_9 (Dense)             (None, 500)               500500    \n",
      "                                                                 \n",
      " dense_10 (Dense)            (None, 300)               150300    \n",
      "                                                                 \n",
      " dropout_2 (Dropout)         (None, 300)               0         \n",
      "                                                                 \n",
      " dense_11 (Dense)            (None, 3)                 903       \n",
      "                                                                 \n",
      "=================================================================\n",
      "Total params: 656703 (2.51 MB)\n",
      "Trainable params: 656703 (2.51 MB)\n",
      "Non-trainable params: 0 (0.00 Byte)\n",
      "_________________________________________________________________\n"
     ]
    }
   ],
   "source": [
    "#Checking the Model Summary \n",
    "Model.summary()"
   ]
  },
  {
   "cell_type": "code",
   "execution_count": 30,
   "id": "b9ce2fc5-77f4-4d37-a983-7f1b62468001",
   "metadata": {},
   "outputs": [],
   "source": [
    "# Compile the model\n",
    "Model.compile(optimizer='adam', \n",
    "              loss=keras.losses.CategoricalCrossentropy(),\n",
    "             metrics=['accuracy'])"
   ]
  },
  {
   "cell_type": "code",
   "execution_count": 65,
   "id": "0aa1d9b3-b0f7-41d9-aab8-55361326b95c",
   "metadata": {},
   "outputs": [
    {
     "name": "stdout",
     "output_type": "stream",
     "text": [
      "Epoch 1/60\n",
      "4/4 [==============================] - 0s 67ms/step - loss: 0.0356 - accuracy: 0.9905 - val_loss: 0.0552 - val_accuracy: 0.9556\n",
      "Epoch 2/60\n",
      "4/4 [==============================] - 0s 29ms/step - loss: 0.0346 - accuracy: 0.9905 - val_loss: 0.0201 - val_accuracy: 1.0000\n",
      "Epoch 3/60\n",
      "4/4 [==============================] - 0s 29ms/step - loss: 0.0469 - accuracy: 0.9810 - val_loss: 0.0729 - val_accuracy: 0.9556\n",
      "Epoch 4/60\n",
      "4/4 [==============================] - 0s 29ms/step - loss: 0.0423 - accuracy: 0.9905 - val_loss: 0.0889 - val_accuracy: 0.9556\n",
      "Epoch 5/60\n",
      "4/4 [==============================] - 0s 32ms/step - loss: 0.0421 - accuracy: 0.9905 - val_loss: 0.0585 - val_accuracy: 0.9556\n",
      "Epoch 6/60\n",
      "4/4 [==============================] - 0s 29ms/step - loss: 0.0369 - accuracy: 0.9905 - val_loss: 0.0492 - val_accuracy: 0.9556\n",
      "Epoch 7/60\n",
      "4/4 [==============================] - 0s 29ms/step - loss: 0.0354 - accuracy: 0.9905 - val_loss: 0.1026 - val_accuracy: 0.9556\n",
      "Epoch 8/60\n",
      "4/4 [==============================] - 0s 29ms/step - loss: 0.0411 - accuracy: 0.9905 - val_loss: 0.1099 - val_accuracy: 0.9556\n",
      "Epoch 9/60\n",
      "4/4 [==============================] - 0s 37ms/step - loss: 0.0406 - accuracy: 0.9905 - val_loss: 0.0720 - val_accuracy: 0.9556\n",
      "Epoch 10/60\n",
      "4/4 [==============================] - 0s 30ms/step - loss: 0.0360 - accuracy: 0.9905 - val_loss: 0.0364 - val_accuracy: 0.9778\n",
      "Epoch 11/60\n",
      "4/4 [==============================] - 0s 24ms/step - loss: 0.0443 - accuracy: 0.9810 - val_loss: 0.0736 - val_accuracy: 0.9556\n",
      "Epoch 12/60\n",
      "4/4 [==============================] - 0s 24ms/step - loss: 0.0464 - accuracy: 0.9905 - val_loss: 0.0735 - val_accuracy: 0.9556\n",
      "Epoch 13/60\n",
      "4/4 [==============================] - 0s 24ms/step - loss: 0.0484 - accuracy: 0.9905 - val_loss: 0.0656 - val_accuracy: 0.9556\n",
      "Epoch 14/60\n",
      "4/4 [==============================] - 0s 27ms/step - loss: 0.0478 - accuracy: 0.9905 - val_loss: 0.0503 - val_accuracy: 0.9556\n",
      "Epoch 15/60\n",
      "4/4 [==============================] - 0s 24ms/step - loss: 0.0462 - accuracy: 0.9905 - val_loss: 0.0776 - val_accuracy: 0.9556\n",
      "Epoch 16/60\n",
      "4/4 [==============================] - 0s 24ms/step - loss: 0.0433 - accuracy: 0.9905 - val_loss: 0.1048 - val_accuracy: 0.9556\n",
      "Epoch 17/60\n",
      "4/4 [==============================] - 0s 24ms/step - loss: 0.0391 - accuracy: 0.9905 - val_loss: 0.0859 - val_accuracy: 0.9556\n",
      "Epoch 18/60\n",
      "4/4 [==============================] - 0s 24ms/step - loss: 0.0384 - accuracy: 0.9905 - val_loss: 0.0351 - val_accuracy: 0.9778\n",
      "Epoch 19/60\n",
      "4/4 [==============================] - 0s 24ms/step - loss: 0.0464 - accuracy: 0.9905 - val_loss: 0.1074 - val_accuracy: 0.9556\n",
      "Epoch 20/60\n",
      "4/4 [==============================] - 0s 24ms/step - loss: 0.0386 - accuracy: 0.9905 - val_loss: 0.1079 - val_accuracy: 0.9556\n",
      "Epoch 21/60\n",
      "4/4 [==============================] - 0s 24ms/step - loss: 0.0355 - accuracy: 0.9905 - val_loss: 0.0437 - val_accuracy: 0.9556\n",
      "Epoch 22/60\n",
      "4/4 [==============================] - 0s 24ms/step - loss: 0.0354 - accuracy: 0.9905 - val_loss: 0.0166 - val_accuracy: 1.0000\n",
      "Epoch 23/60\n",
      "4/4 [==============================] - 0s 24ms/step - loss: 0.0452 - accuracy: 0.9810 - val_loss: 0.0872 - val_accuracy: 0.9556\n",
      "Epoch 24/60\n",
      "4/4 [==============================] - 0s 24ms/step - loss: 0.0603 - accuracy: 0.9714 - val_loss: 0.0667 - val_accuracy: 0.9556\n",
      "Epoch 25/60\n",
      "4/4 [==============================] - 0s 24ms/step - loss: 0.0444 - accuracy: 0.9810 - val_loss: 0.0339 - val_accuracy: 1.0000\n",
      "Epoch 26/60\n",
      "4/4 [==============================] - 0s 24ms/step - loss: 0.0340 - accuracy: 0.9905 - val_loss: 0.0927 - val_accuracy: 0.9556\n",
      "Epoch 27/60\n",
      "4/4 [==============================] - 0s 24ms/step - loss: 0.0381 - accuracy: 0.9905 - val_loss: 0.1080 - val_accuracy: 0.9556\n",
      "Epoch 28/60\n",
      "4/4 [==============================] - 0s 24ms/step - loss: 0.0299 - accuracy: 0.9905 - val_loss: 0.1070 - val_accuracy: 0.9556\n",
      "Epoch 29/60\n",
      "4/4 [==============================] - 0s 24ms/step - loss: 0.0362 - accuracy: 0.9905 - val_loss: 0.0689 - val_accuracy: 0.9556\n",
      "Epoch 30/60\n",
      "4/4 [==============================] - 0s 24ms/step - loss: 0.0365 - accuracy: 0.9905 - val_loss: 0.0429 - val_accuracy: 0.9556\n",
      "Epoch 31/60\n",
      "4/4 [==============================] - 0s 24ms/step - loss: 0.0447 - accuracy: 0.9905 - val_loss: 0.0491 - val_accuracy: 0.9556\n",
      "Epoch 32/60\n",
      "4/4 [==============================] - 0s 24ms/step - loss: 0.0412 - accuracy: 0.9905 - val_loss: 0.0730 - val_accuracy: 0.9556\n",
      "Epoch 33/60\n",
      "4/4 [==============================] - 0s 27ms/step - loss: 0.0420 - accuracy: 0.9905 - val_loss: 0.0800 - val_accuracy: 0.9556\n",
      "Epoch 34/60\n",
      "4/4 [==============================] - 0s 29ms/step - loss: 0.0440 - accuracy: 0.9905 - val_loss: 0.0750 - val_accuracy: 0.9556\n",
      "Epoch 35/60\n",
      "4/4 [==============================] - 0s 21ms/step - loss: 0.0371 - accuracy: 0.9905 - val_loss: 0.0344 - val_accuracy: 1.0000\n",
      "Epoch 36/60\n",
      "4/4 [==============================] - 0s 24ms/step - loss: 0.0379 - accuracy: 0.9905 - val_loss: 0.0701 - val_accuracy: 0.9556\n",
      "Epoch 37/60\n",
      "4/4 [==============================] - 0s 27ms/step - loss: 0.0341 - accuracy: 0.9905 - val_loss: 0.0870 - val_accuracy: 0.9556\n",
      "Epoch 38/60\n",
      "4/4 [==============================] - 0s 27ms/step - loss: 0.0372 - accuracy: 0.9905 - val_loss: 0.0582 - val_accuracy: 0.9556\n",
      "Epoch 39/60\n",
      "4/4 [==============================] - 0s 24ms/step - loss: 0.0397 - accuracy: 0.9905 - val_loss: 0.0390 - val_accuracy: 0.9556\n",
      "Epoch 40/60\n",
      "4/4 [==============================] - 0s 24ms/step - loss: 0.0339 - accuracy: 0.9905 - val_loss: 0.0828 - val_accuracy: 0.9556\n",
      "Epoch 41/60\n",
      "4/4 [==============================] - 0s 24ms/step - loss: 0.0384 - accuracy: 0.9905 - val_loss: 0.0842 - val_accuracy: 0.9556\n",
      "Epoch 42/60\n",
      "4/4 [==============================] - 0s 27ms/step - loss: 0.0362 - accuracy: 0.9905 - val_loss: 0.0579 - val_accuracy: 0.9556\n",
      "Epoch 43/60\n",
      "4/4 [==============================] - 0s 27ms/step - loss: 0.0408 - accuracy: 0.9905 - val_loss: 0.0380 - val_accuracy: 1.0000\n",
      "Epoch 44/60\n",
      "4/4 [==============================] - 0s 24ms/step - loss: 0.0374 - accuracy: 0.9905 - val_loss: 0.0830 - val_accuracy: 0.9556\n",
      "Epoch 45/60\n",
      "4/4 [==============================] - 0s 24ms/step - loss: 0.0321 - accuracy: 0.9905 - val_loss: 0.1148 - val_accuracy: 0.9556\n",
      "Epoch 46/60\n",
      "4/4 [==============================] - 0s 24ms/step - loss: 0.0369 - accuracy: 0.9905 - val_loss: 0.1091 - val_accuracy: 0.9556\n",
      "Epoch 47/60\n",
      "4/4 [==============================] - 0s 27ms/step - loss: 0.0350 - accuracy: 0.9905 - val_loss: 0.0745 - val_accuracy: 0.9556\n",
      "Epoch 48/60\n",
      "4/4 [==============================] - 0s 24ms/step - loss: 0.0346 - accuracy: 0.9905 - val_loss: 0.0630 - val_accuracy: 0.9556\n",
      "Epoch 49/60\n",
      "4/4 [==============================] - 0s 21ms/step - loss: 0.0309 - accuracy: 0.9905 - val_loss: 0.0706 - val_accuracy: 0.9556\n",
      "Epoch 50/60\n",
      "4/4 [==============================] - 0s 24ms/step - loss: 0.0323 - accuracy: 0.9905 - val_loss: 0.0759 - val_accuracy: 0.9556\n",
      "Epoch 51/60\n",
      "4/4 [==============================] - 0s 21ms/step - loss: 0.0338 - accuracy: 0.9905 - val_loss: 0.0871 - val_accuracy: 0.9556\n",
      "Epoch 52/60\n",
      "4/4 [==============================] - 0s 24ms/step - loss: 0.0288 - accuracy: 0.9905 - val_loss: 0.0923 - val_accuracy: 0.9556\n",
      "Epoch 53/60\n",
      "4/4 [==============================] - 0s 24ms/step - loss: 0.0337 - accuracy: 0.9905 - val_loss: 0.0725 - val_accuracy: 0.9556\n",
      "Epoch 54/60\n",
      "4/4 [==============================] - 0s 21ms/step - loss: 0.0342 - accuracy: 0.9905 - val_loss: 0.0718 - val_accuracy: 0.9556\n",
      "Epoch 55/60\n",
      "4/4 [==============================] - 0s 21ms/step - loss: 0.0310 - accuracy: 0.9905 - val_loss: 0.0957 - val_accuracy: 0.9556\n",
      "Epoch 56/60\n",
      "4/4 [==============================] - 0s 24ms/step - loss: 0.0327 - accuracy: 0.9905 - val_loss: 0.0759 - val_accuracy: 0.9556\n",
      "Epoch 57/60\n",
      "4/4 [==============================] - 0s 24ms/step - loss: 0.0347 - accuracy: 0.9905 - val_loss: 0.0222 - val_accuracy: 1.0000\n",
      "Epoch 58/60\n",
      "4/4 [==============================] - 0s 27ms/step - loss: 0.0431 - accuracy: 0.9905 - val_loss: 0.0820 - val_accuracy: 0.9556\n",
      "Epoch 59/60\n",
      "4/4 [==============================] - 0s 24ms/step - loss: 0.0377 - accuracy: 0.9905 - val_loss: 0.0894 - val_accuracy: 0.9556\n",
      "Epoch 60/60\n",
      "4/4 [==============================] - 0s 24ms/step - loss: 0.0389 - accuracy: 0.9905 - val_loss: 0.0414 - val_accuracy: 0.9556\n"
     ]
    }
   ],
   "source": [
    "#Model Training \n",
    "history = Model.fit(X_train, y_train, epochs=60, validation_data=(X_test, y_test), verbose=1)"
   ]
  },
  {
   "cell_type": "code",
   "execution_count": 66,
   "id": "db2a6411-b4db-4212-b140-69249f53f6e3",
   "metadata": {},
   "outputs": [
    {
     "name": "stdout",
     "output_type": "stream",
     "text": [
      "4/4 [==============================] - 0s 7ms/step - loss: 0.0327 - accuracy: 0.9905\n"
     ]
    },
    {
     "data": {
      "text/plain": [
       "[0.03269524872303009, 0.9904761910438538]"
      ]
     },
     "execution_count": 66,
     "metadata": {},
     "output_type": "execute_result"
    }
   ],
   "source": [
    "#Checking the Training Accuracy\n",
    "Model.evaluate(X_train,y_train)"
   ]
  },
  {
   "cell_type": "code",
   "execution_count": 67,
   "id": "d154ebc1-39e5-47cc-90fc-4110ebc460b2",
   "metadata": {},
   "outputs": [
    {
     "name": "stdout",
     "output_type": "stream",
     "text": [
      "2/2 [==============================] - 0s 8ms/step - loss: 0.0414 - accuracy: 0.9556\n"
     ]
    },
    {
     "data": {
      "text/plain": [
       "[0.04138689488172531, 0.9555555582046509]"
      ]
     },
     "execution_count": 67,
     "metadata": {},
     "output_type": "execute_result"
    }
   ],
   "source": [
    "#Checking the Testing accuracy\n",
    "Model.evaluate(X_test,y_test)"
   ]
  },
  {
   "cell_type": "code",
   "execution_count": 68,
   "id": "4ccad780-e7bb-43f4-ad09-bfe5c6dc4c99",
   "metadata": {},
   "outputs": [
    {
     "data": {
      "image/png": "[encoded data removed]",
      "text/plain": [
       "<Figure size 1000x600 with 1 Axes>"
      ]
     },
     "metadata": {},
     "output_type": "display_data"
    }
   ],
   "source": [
    "#Performance Monitor\n",
    "pd.DataFrame(history.history).plot(figsize=(10,6))\n",
    "plt.grid(True)\n",
    "plt.gca().set_ylim(0, 1)\n",
    "plt.show()"
   ]
  },
  {
   "cell_type": "code",
   "execution_count": 35,
   "id": "fc8a6920-5ee1-4b7f-aa29-bbaf9857850e",
   "metadata": {},
   "outputs": [],
   "source": [
    "#Setting the Model with tanh function\n",
    "Model2 = Sequential([\n",
    "        keras.layers.Input(shape=X_train.shape[1:]),\n",
    "        keras.layers.Dense(1000, activation='relu'),\n",
    "        keras.layers.Dense(500, activation='relu',),\n",
    "        keras.layers.Dense(300, activation='relu'),\n",
    "        keras.layers.Dropout(0.2),\n",
    "        keras.layers.Dense(3, activation='tanh')\n",
    "    ])"
   ]
  },
  {
   "cell_type": "code",
   "execution_count": 36,
   "id": "96ade174-c46d-4ddc-a810-9d5f842fe014",
   "metadata": {},
   "outputs": [
    {
     "name": "stdout",
     "output_type": "stream",
     "text": [
      "Model: \"sequential_3\"\n",
      "_________________________________________________________________\n",
      " Layer (type)                Output Shape              Param #   \n",
      "=================================================================\n",
      " dense_12 (Dense)            (None, 1000)              5000      \n",
      "                                                                 \n",
      " dense_13 (Dense)            (None, 500)               500500    \n",
      "                                                                 \n",
      " dense_14 (Dense)            (None, 300)               150300    \n",
      "                                                                 \n",
      " dropout_3 (Dropout)         (None, 300)               0         \n",
      "                                                                 \n",
      " dense_15 (Dense)            (None, 3)                 903       \n",
      "                                                                 \n",
      "=================================================================\n",
      "Total params: 656703 (2.51 MB)\n",
      "Trainable params: 656703 (2.51 MB)\n",
      "Non-trainable params: 0 (0.00 Byte)\n",
      "_________________________________________________________________\n"
     ]
    }
   ],
   "source": [
    "Model2.summary()"
   ]
  },
  {
   "cell_type": "code",
   "execution_count": 37,
   "id": "494d3dd8-c0df-4175-8bae-3d0e9ab2a90f",
   "metadata": {},
   "outputs": [],
   "source": [
    "# Compile the model\n",
    "Model2.compile(optimizer='adam', \n",
    "              loss=keras.losses.CategoricalCrossentropy(),\n",
    "             metrics=['accuracy'])"
   ]
  },
  {
   "cell_type": "code",
   "execution_count": 52,
   "id": "7ac4646b-e9fd-4aff-b67d-122cf5c37eb6",
   "metadata": {},
   "outputs": [
    {
     "name": "stdout",
     "output_type": "stream",
     "text": [
      "Epoch 1/60\n",
      "4/4 [==============================] - 2s 51ms/step - loss: 1.8553 - accuracy: 0.2857 - val_loss: 1.0292 - val_accuracy: 0.4444\n",
      "Epoch 2/60\n",
      "4/4 [==============================] - 0s 27ms/step - loss: 1.0621 - accuracy: 0.2857 - val_loss: 0.9999 - val_accuracy: 0.4444\n",
      "Epoch 3/60\n",
      "4/4 [==============================] - 0s 24ms/step - loss: 0.9950 - accuracy: 0.2857 - val_loss: 0.7447 - val_accuracy: 0.4444\n",
      "Epoch 4/60\n",
      "4/4 [==============================] - 0s 24ms/step - loss: 1.0560 - accuracy: 0.2857 - val_loss: 0.6731 - val_accuracy: 0.4444\n",
      "Epoch 5/60\n",
      "4/4 [==============================] - 0s 24ms/step - loss: 0.7836 - accuracy: 0.2857 - val_loss: 0.5816 - val_accuracy: 0.4444\n",
      "Epoch 6/60\n",
      "4/4 [==============================] - 0s 27ms/step - loss: 1.5297 - accuracy: 0.2857 - val_loss: 0.8013 - val_accuracy: 0.4444\n",
      "Epoch 7/60\n",
      "4/4 [==============================] - 0s 27ms/step - loss: 1.0084 - accuracy: 0.4190 - val_loss: 1.0467 - val_accuracy: 0.6889\n",
      "Epoch 8/60\n",
      "4/4 [==============================] - 0s 24ms/step - loss: 1.2070 - accuracy: 0.6476 - val_loss: 1.0185 - val_accuracy: 0.6889\n",
      "Epoch 9/60\n",
      "4/4 [==============================] - 0s 24ms/step - loss: 1.0564 - accuracy: 0.6381 - val_loss: 0.9451 - val_accuracy: 0.6889\n",
      "Epoch 10/60\n",
      "4/4 [==============================] - 0s 24ms/step - loss: 1.0303 - accuracy: 0.5333 - val_loss: 0.9127 - val_accuracy: 0.5111\n",
      "Epoch 11/60\n",
      "4/4 [==============================] - 0s 24ms/step - loss: 0.9777 - accuracy: 0.4667 - val_loss: 0.8580 - val_accuracy: 0.3778\n",
      "Epoch 12/60\n",
      "4/4 [==============================] - 0s 24ms/step - loss: 0.9647 - accuracy: 0.4476 - val_loss: 0.7288 - val_accuracy: 0.4667\n",
      "Epoch 13/60\n",
      "4/4 [==============================] - 0s 24ms/step - loss: 1.1823 - accuracy: 0.4571 - val_loss: 0.6875 - val_accuracy: 0.6444\n",
      "Epoch 14/60\n",
      "4/4 [==============================] - 0s 24ms/step - loss: 1.1593 - accuracy: 0.4857 - val_loss: 0.6545 - val_accuracy: 0.6444\n",
      "Epoch 15/60\n",
      "4/4 [==============================] - 0s 24ms/step - loss: 0.8396 - accuracy: 0.5238 - val_loss: 0.6497 - val_accuracy: 0.6444\n",
      "Epoch 16/60\n",
      "4/4 [==============================] - 0s 24ms/step - loss: 0.8196 - accuracy: 0.5619 - val_loss: 0.6273 - val_accuracy: 0.6667\n",
      "Epoch 17/60\n",
      "4/4 [==============================] - 0s 24ms/step - loss: 0.8030 - accuracy: 0.5810 - val_loss: 0.6171 - val_accuracy: 0.6889\n",
      "Epoch 18/60\n",
      "4/4 [==============================] - 0s 24ms/step - loss: 0.7930 - accuracy: 0.6190 - val_loss: 0.6162 - val_accuracy: 0.6889\n",
      "Epoch 19/60\n",
      "4/4 [==============================] - 0s 24ms/step - loss: 1.0769 - accuracy: 0.6286 - val_loss: 0.6168 - val_accuracy: 0.6889\n",
      "Epoch 20/60\n",
      "4/4 [==============================] - 0s 24ms/step - loss: 0.7911 - accuracy: 0.6381 - val_loss: 0.6164 - val_accuracy: 0.6889\n",
      "Epoch 21/60\n",
      "4/4 [==============================] - 0s 24ms/step - loss: 0.7919 - accuracy: 0.6476 - val_loss: 0.6140 - val_accuracy: 0.6889\n",
      "Epoch 22/60\n",
      "4/4 [==============================] - 0s 24ms/step - loss: 0.7877 - accuracy: 0.6476 - val_loss: 0.6119 - val_accuracy: 0.6889\n",
      "Epoch 23/60\n",
      "4/4 [==============================] - 0s 27ms/step - loss: 0.7874 - accuracy: 0.6286 - val_loss: 0.6114 - val_accuracy: 0.6889\n",
      "Epoch 24/60\n",
      "4/4 [==============================] - 0s 24ms/step - loss: 0.7862 - accuracy: 0.6476 - val_loss: 0.6113 - val_accuracy: 0.6889\n",
      "Epoch 25/60\n",
      "4/4 [==============================] - 0s 24ms/step - loss: 0.7869 - accuracy: 0.6381 - val_loss: 0.6112 - val_accuracy: 0.6889\n",
      "Epoch 26/60\n",
      "4/4 [==============================] - 0s 24ms/step - loss: 0.7863 - accuracy: 0.6381 - val_loss: 0.6111 - val_accuracy: 0.6889\n",
      "Epoch 27/60\n",
      "4/4 [==============================] - 0s 24ms/step - loss: 0.7863 - accuracy: 0.6286 - val_loss: 0.6110 - val_accuracy: 0.6889\n",
      "Epoch 28/60\n",
      "4/4 [==============================] - 0s 24ms/step - loss: 0.7861 - accuracy: 0.6286 - val_loss: 0.6109 - val_accuracy: 0.6889\n",
      "Epoch 29/60\n",
      "4/4 [==============================] - 0s 27ms/step - loss: 0.7867 - accuracy: 0.6476 - val_loss: 0.6108 - val_accuracy: 0.6889\n",
      "Epoch 30/60\n",
      "4/4 [==============================] - 0s 27ms/step - loss: 0.7860 - accuracy: 0.6476 - val_loss: 0.6108 - val_accuracy: 0.6889\n",
      "Epoch 31/60\n",
      "4/4 [==============================] - 0s 24ms/step - loss: 0.7858 - accuracy: 0.6381 - val_loss: 0.6108 - val_accuracy: 0.6889\n",
      "Epoch 32/60\n",
      "4/4 [==============================] - 0s 32ms/step - loss: 0.7854 - accuracy: 0.6381 - val_loss: 0.6108 - val_accuracy: 0.6889\n",
      "Epoch 33/60\n",
      "4/4 [==============================] - 0s 24ms/step - loss: 0.7861 - accuracy: 0.6571 - val_loss: 0.6108 - val_accuracy: 0.6889\n",
      "Epoch 34/60\n",
      "4/4 [==============================] - 0s 24ms/step - loss: 0.7864 - accuracy: 0.6476 - val_loss: 0.6109 - val_accuracy: 0.6889\n",
      "Epoch 35/60\n",
      "4/4 [==============================] - 0s 21ms/step - loss: 0.7851 - accuracy: 0.6571 - val_loss: 0.6109 - val_accuracy: 0.6889\n",
      "Epoch 36/60\n",
      "4/4 [==============================] - 0s 24ms/step - loss: 0.7856 - accuracy: 0.6571 - val_loss: 0.6109 - val_accuracy: 0.6889\n",
      "Epoch 37/60\n",
      "4/4 [==============================] - 0s 27ms/step - loss: 0.7856 - accuracy: 0.6381 - val_loss: 0.6108 - val_accuracy: 0.6889\n",
      "Epoch 38/60\n",
      "4/4 [==============================] - 0s 27ms/step - loss: 0.7851 - accuracy: 0.6476 - val_loss: 0.6108 - val_accuracy: 0.6889\n",
      "Epoch 39/60\n",
      "4/4 [==============================] - 0s 24ms/step - loss: 0.7854 - accuracy: 0.6476 - val_loss: 0.6108 - val_accuracy: 0.6889\n",
      "Epoch 40/60\n",
      "4/4 [==============================] - 0s 27ms/step - loss: 0.7850 - accuracy: 0.6381 - val_loss: 0.6107 - val_accuracy: 0.6889\n",
      "Epoch 41/60\n",
      "4/4 [==============================] - 0s 27ms/step - loss: 0.7851 - accuracy: 0.6381 - val_loss: 0.6107 - val_accuracy: 0.6889\n",
      "Epoch 42/60\n",
      "4/4 [==============================] - 0s 27ms/step - loss: 0.7848 - accuracy: 0.6571 - val_loss: 0.6106 - val_accuracy: 0.6889\n",
      "Epoch 43/60\n",
      "4/4 [==============================] - 0s 27ms/step - loss: 0.7844 - accuracy: 0.6381 - val_loss: 0.6105 - val_accuracy: 0.6889\n",
      "Epoch 44/60\n",
      "4/4 [==============================] - 0s 27ms/step - loss: 0.7846 - accuracy: 0.6381 - val_loss: 0.6104 - val_accuracy: 0.6889\n",
      "Epoch 45/60\n",
      "4/4 [==============================] - 0s 24ms/step - loss: 0.7837 - accuracy: 0.6381 - val_loss: 0.6102 - val_accuracy: 0.6889\n",
      "Epoch 46/60\n",
      "4/4 [==============================] - 0s 24ms/step - loss: 0.7809 - accuracy: 0.6476 - val_loss: 0.6095 - val_accuracy: 0.6889\n",
      "Epoch 47/60\n",
      "4/4 [==============================] - 0s 24ms/step - loss: 0.9296 - accuracy: 0.6095 - val_loss: 0.6046 - val_accuracy: 0.6444\n",
      "Epoch 48/60\n",
      "4/4 [==============================] - 0s 21ms/step - loss: 0.7356 - accuracy: 0.5810 - val_loss: 0.3846 - val_accuracy: 0.5111\n",
      "Epoch 49/60\n",
      "4/4 [==============================] - 0s 24ms/step - loss: 0.2178 - accuracy: 0.4667 - val_loss: 0.4093 - val_accuracy: 0.2444\n",
      "Epoch 50/60\n",
      "4/4 [==============================] - 0s 24ms/step - loss: 0.0182 - accuracy: 0.3619 - val_loss: 7.5914e-04 - val_accuracy: 0.2444\n",
      "Epoch 51/60\n",
      "4/4 [==============================] - 0s 24ms/step - loss: 3.7330e-04 - accuracy: 0.3619 - val_loss: 2.3901e-05 - val_accuracy: 0.2444\n",
      "Epoch 52/60\n",
      "4/4 [==============================] - 0s 24ms/step - loss: 2.0833e-07 - accuracy: 0.3429 - val_loss: 1.1921e-07 - val_accuracy: 0.2444\n",
      "Epoch 53/60\n",
      "4/4 [==============================] - 0s 21ms/step - loss: 0.6140 - accuracy: 0.3238 - val_loss: 1.1921e-07 - val_accuracy: 0.2444\n",
      "Epoch 54/60\n",
      "4/4 [==============================] - 0s 24ms/step - loss: 0.4605 - accuracy: 0.3429 - val_loss: 0.3582 - val_accuracy: 0.2444\n",
      "Epoch 55/60\n",
      "4/4 [==============================] - 0s 24ms/step - loss: 0.7675 - accuracy: 0.3333 - val_loss: 0.3582 - val_accuracy: 0.2444\n",
      "Epoch 56/60\n",
      "4/4 [==============================] - 0s 24ms/step - loss: 0.7675 - accuracy: 0.3429 - val_loss: 0.7164 - val_accuracy: 0.2444\n",
      "Epoch 57/60\n",
      "4/4 [==============================] - 0s 21ms/step - loss: 0.6140 - accuracy: 0.3333 - val_loss: 0.7164 - val_accuracy: 0.2444\n",
      "Epoch 58/60\n",
      "4/4 [==============================] - 0s 27ms/step - loss: 1.3816 - accuracy: 0.2952 - val_loss: 0.7164 - val_accuracy: 0.2444\n",
      "Epoch 59/60\n",
      "4/4 [==============================] - 0s 24ms/step - loss: 1.2280 - accuracy: 0.3238 - val_loss: 0.7164 - val_accuracy: 0.2444\n",
      "Epoch 60/60\n",
      "4/4 [==============================] - 0s 24ms/step - loss: 1.2280 - accuracy: 0.3143 - val_loss: 0.7164 - val_accuracy: 0.2444\n"
     ]
    }
   ],
   "source": [
    "#Model Training \n",
    "history = Model2.fit(X_train, y_train, epochs=60, validation_data=(X_test, y_test), verbose=1)"
   ]
  },
  {
   "cell_type": "code",
   "execution_count": 63,
   "id": "1147be0e-b47f-4fcf-a08c-b1193178632e",
   "metadata": {},
   "outputs": [
    {
     "name": "stdout",
     "output_type": "stream",
     "text": [
      "4/4 [==============================] - 0s 5ms/step - loss: 0.6140 - accuracy: 0.3714\n"
     ]
    },
    {
     "data": {
      "text/plain": [
       "[0.6140228509902954, 0.37142857909202576]"
      ]
     },
     "execution_count": 63,
     "metadata": {},
     "output_type": "execute_result"
    }
   ],
   "source": [
    "#Checking the Training Accuracy\n",
    "Model2.evaluate(X_train,y_train)"
   ]
  },
  {
   "cell_type": "code",
   "execution_count": 64,
   "id": "f5da6a20-f94b-4929-a1f9-afc0b63d7eba",
   "metadata": {},
   "outputs": [
    {
     "name": "stdout",
     "output_type": "stream",
     "text": [
      "2/2 [==============================] - 0s 8ms/step - loss: 0.7164 - accuracy: 0.2444\n"
     ]
    },
    {
     "data": {
      "text/plain": [
       "[0.7163598537445068, 0.24444444477558136]"
      ]
     },
     "execution_count": 64,
     "metadata": {},
     "output_type": "execute_result"
    }
   ],
   "source": [
    "#Checking the Testing accuracy\n",
    "Model2.evaluate(X_test,y_test)"
   ]
  },
  {
   "cell_type": "code",
   "execution_count": 61,
   "id": "08997c6d-fced-4f72-8c82-78cce3878be6",
   "metadata": {},
   "outputs": [
    {
     "data": {
      "image/png": "[encoded data removed]",
      "text/plain": [
       "<Figure size 1000x600 with 1 Axes>"
      ]
     },
     "metadata": {},
     "output_type": "display_data"
    }
   ],
   "source": [
    "#Performance Monitor\n",
    "pd.DataFrame(history.history).plot(figsize=(10,6))\n",
    "plt.grid(True)\n",
    "plt.gca().set_ylim(0, 1)\n",
    "plt.show()"
   ]
  },
  {
   "cell_type": "code",
   "execution_count": 73,
   "id": "6bccaa12-2f8a-497d-a1dd-5af6fcd481f7",
   "metadata": {},
   "outputs": [],
   "source": [
    "#Setting the Model with tanh function\n",
    "Model3 = Sequential([\n",
    "        keras.layers.Input(shape=X_train.shape[1:]),\n",
    "        keras.layers.Dense(1000, activation='relu'),\n",
    "        keras.layers.Dense(500, activation='relu',),\n",
    "        keras.layers.Dense(300, activation='relu'),\n",
    "        keras.layers.Dropout(0.2),\n",
    "        keras.layers.Dense(3, activation='softmax')\n",
    "    ])"
   ]
  },
  {
   "cell_type": "code",
   "execution_count": 74,
   "id": "43859f0d-22b1-4056-9105-9a33a49635a5",
   "metadata": {},
   "outputs": [
    {
     "name": "stdout",
     "output_type": "stream",
     "text": [
      "Model: \"sequential_5\"\n",
      "_________________________________________________________________\n",
      " Layer (type)                Output Shape              Param #   \n",
      "=================================================================\n",
      " dense_20 (Dense)            (None, 1000)              5000      \n",
      "                                                                 \n",
      " dense_21 (Dense)            (None, 500)               500500    \n",
      "                                                                 \n",
      " dense_22 (Dense)            (None, 300)               150300    \n",
      "                                                                 \n",
      " dropout_5 (Dropout)         (None, 300)               0         \n",
      "                                                                 \n",
      " dense_23 (Dense)            (None, 3)                 903       \n",
      "                                                                 \n",
      "=================================================================\n",
      "Total params: 656703 (2.51 MB)\n",
      "Trainable params: 656703 (2.51 MB)\n",
      "Non-trainable params: 0 (0.00 Byte)\n",
      "_________________________________________________________________\n"
     ]
    }
   ],
   "source": [
    "Model3.summary()"
   ]
  },
  {
   "cell_type": "code",
   "execution_count": 75,
   "id": "cab90998-dc13-4a13-b9e9-8b78c3552350",
   "metadata": {},
   "outputs": [],
   "source": [
    "# Compile the model\n",
    "Model3.compile(optimizer='adam', \n",
    "              loss=keras.losses.CategoricalCrossentropy(),\n",
    "             metrics=['accuracy'])"
   ]
  },
  {
   "cell_type": "code",
   "execution_count": 76,
   "id": "4b43a69a-581e-45b2-8aac-7e51551e7ed9",
   "metadata": {},
   "outputs": [
    {
     "name": "stdout",
     "output_type": "stream",
     "text": [
      "Epoch 1/60\n",
      "4/4 [==============================] - 2s 134ms/step - loss: 1.0008 - accuracy: 0.4571 - val_loss: 0.7293 - val_accuracy: 0.7556\n",
      "Epoch 2/60\n",
      "4/4 [==============================] - 0s 24ms/step - loss: 0.7455 - accuracy: 0.6857 - val_loss: 0.4598 - val_accuracy: 0.8000\n",
      "Epoch 3/60\n",
      "4/4 [==============================] - 0s 21ms/step - loss: 0.5094 - accuracy: 0.7714 - val_loss: 0.3431 - val_accuracy: 0.8667\n",
      "Epoch 4/60\n",
      "4/4 [==============================] - 0s 24ms/step - loss: 0.3922 - accuracy: 0.7905 - val_loss: 0.2832 - val_accuracy: 0.8667\n",
      "Epoch 5/60\n",
      "4/4 [==============================] - 0s 21ms/step - loss: 0.3427 - accuracy: 0.8857 - val_loss: 0.3316 - val_accuracy: 0.7778\n",
      "Epoch 6/60\n",
      "4/4 [==============================] - 0s 24ms/step - loss: 0.3220 - accuracy: 0.8381 - val_loss: 0.2208 - val_accuracy: 0.8667\n",
      "Epoch 7/60\n",
      "4/4 [==============================] - 0s 24ms/step - loss: 0.2125 - accuracy: 0.9143 - val_loss: 0.1557 - val_accuracy: 0.9556\n",
      "Epoch 8/60\n",
      "4/4 [==============================] - 0s 24ms/step - loss: 0.2376 - accuracy: 0.9048 - val_loss: 0.1375 - val_accuracy: 0.9556\n",
      "Epoch 9/60\n",
      "4/4 [==============================] - 0s 24ms/step - loss: 0.1464 - accuracy: 0.9619 - val_loss: 0.1205 - val_accuracy: 0.9778\n",
      "Epoch 10/60\n",
      "4/4 [==============================] - 0s 24ms/step - loss: 0.1652 - accuracy: 0.9333 - val_loss: 0.1779 - val_accuracy: 0.9111\n",
      "Epoch 11/60\n",
      "4/4 [==============================] - 0s 24ms/step - loss: 0.2114 - accuracy: 0.9048 - val_loss: 0.0962 - val_accuracy: 0.9556\n",
      "Epoch 12/60\n",
      "4/4 [==============================] - 0s 24ms/step - loss: 0.1183 - accuracy: 0.9429 - val_loss: 0.0930 - val_accuracy: 0.9778\n",
      "Epoch 13/60\n",
      "4/4 [==============================] - 0s 24ms/step - loss: 0.0846 - accuracy: 0.9810 - val_loss: 0.1212 - val_accuracy: 0.9556\n",
      "Epoch 14/60\n",
      "4/4 [==============================] - 0s 21ms/step - loss: 0.1144 - accuracy: 0.9714 - val_loss: 0.1026 - val_accuracy: 0.9556\n",
      "Epoch 15/60\n",
      "4/4 [==============================] - 0s 24ms/step - loss: 0.1227 - accuracy: 0.9524 - val_loss: 0.1775 - val_accuracy: 0.9111\n",
      "Epoch 16/60\n",
      "4/4 [==============================] - 0s 24ms/step - loss: 0.1241 - accuracy: 0.9429 - val_loss: 0.1222 - val_accuracy: 0.9333\n",
      "Epoch 17/60\n",
      "4/4 [==============================] - 0s 24ms/step - loss: 0.2601 - accuracy: 0.8762 - val_loss: 0.2491 - val_accuracy: 0.9111\n",
      "Epoch 18/60\n",
      "4/4 [==============================] - 0s 24ms/step - loss: 0.2161 - accuracy: 0.8952 - val_loss: 0.0719 - val_accuracy: 1.0000\n",
      "Epoch 19/60\n",
      "4/4 [==============================] - 0s 24ms/step - loss: 0.1254 - accuracy: 0.9333 - val_loss: 0.0713 - val_accuracy: 0.9556\n",
      "Epoch 20/60\n",
      "4/4 [==============================] - 0s 24ms/step - loss: 0.1137 - accuracy: 0.9524 - val_loss: 0.0713 - val_accuracy: 0.9556\n",
      "Epoch 21/60\n",
      "4/4 [==============================] - 0s 21ms/step - loss: 0.0954 - accuracy: 0.9524 - val_loss: 0.0947 - val_accuracy: 0.9556\n",
      "Epoch 22/60\n",
      "4/4 [==============================] - 0s 24ms/step - loss: 0.1030 - accuracy: 0.9333 - val_loss: 0.0835 - val_accuracy: 0.9556\n",
      "Epoch 23/60\n",
      "4/4 [==============================] - 0s 29ms/step - loss: 0.0817 - accuracy: 0.9714 - val_loss: 0.0680 - val_accuracy: 0.9556\n",
      "Epoch 24/60\n",
      "4/4 [==============================] - 0s 24ms/step - loss: 0.0696 - accuracy: 0.9905 - val_loss: 0.0678 - val_accuracy: 0.9556\n",
      "Epoch 25/60\n",
      "4/4 [==============================] - 0s 24ms/step - loss: 0.0866 - accuracy: 0.9714 - val_loss: 0.0861 - val_accuracy: 0.9556\n",
      "Epoch 26/60\n",
      "4/4 [==============================] - 0s 24ms/step - loss: 0.0777 - accuracy: 0.9714 - val_loss: 0.0631 - val_accuracy: 1.0000\n",
      "Epoch 27/60\n",
      "4/4 [==============================] - 0s 24ms/step - loss: 0.1251 - accuracy: 0.9429 - val_loss: 0.0716 - val_accuracy: 0.9556\n",
      "Epoch 28/60\n",
      "4/4 [==============================] - 0s 21ms/step - loss: 0.1120 - accuracy: 0.9524 - val_loss: 0.1370 - val_accuracy: 0.9556\n",
      "Epoch 29/60\n",
      "4/4 [==============================] - 0s 24ms/step - loss: 0.0921 - accuracy: 0.9619 - val_loss: 0.0698 - val_accuracy: 1.0000\n",
      "Epoch 30/60\n",
      "4/4 [==============================] - 0s 27ms/step - loss: 0.0825 - accuracy: 0.9810 - val_loss: 0.0745 - val_accuracy: 0.9556\n",
      "Epoch 31/60\n",
      "4/4 [==============================] - 0s 24ms/step - loss: 0.0748 - accuracy: 0.9905 - val_loss: 0.0950 - val_accuracy: 0.9556\n",
      "Epoch 32/60\n",
      "4/4 [==============================] - 0s 24ms/step - loss: 0.0836 - accuracy: 0.9619 - val_loss: 0.0635 - val_accuracy: 1.0000\n",
      "Epoch 33/60\n",
      "4/4 [==============================] - 0s 24ms/step - loss: 0.1187 - accuracy: 0.9429 - val_loss: 0.1025 - val_accuracy: 0.9556\n",
      "Epoch 34/60\n",
      "4/4 [==============================] - 0s 24ms/step - loss: 0.1371 - accuracy: 0.9524 - val_loss: 0.0805 - val_accuracy: 0.9556\n",
      "Epoch 35/60\n",
      "4/4 [==============================] - 0s 24ms/step - loss: 0.0990 - accuracy: 0.9524 - val_loss: 0.0591 - val_accuracy: 1.0000\n",
      "Epoch 36/60\n",
      "4/4 [==============================] - 0s 24ms/step - loss: 0.1001 - accuracy: 0.9714 - val_loss: 0.1467 - val_accuracy: 0.9556\n",
      "Epoch 37/60\n",
      "4/4 [==============================] - 0s 24ms/step - loss: 0.0896 - accuracy: 0.9714 - val_loss: 0.0674 - val_accuracy: 0.9778\n",
      "Epoch 38/60\n",
      "4/4 [==============================] - 0s 21ms/step - loss: 0.0982 - accuracy: 0.9524 - val_loss: 0.0955 - val_accuracy: 0.9556\n",
      "Epoch 39/60\n",
      "4/4 [==============================] - 0s 24ms/step - loss: 0.0957 - accuracy: 0.9714 - val_loss: 0.0839 - val_accuracy: 0.9556\n",
      "Epoch 40/60\n",
      "4/4 [==============================] - 0s 24ms/step - loss: 0.0877 - accuracy: 0.9810 - val_loss: 0.0587 - val_accuracy: 1.0000\n",
      "Epoch 41/60\n",
      "4/4 [==============================] - 0s 24ms/step - loss: 0.0582 - accuracy: 0.9810 - val_loss: 0.0953 - val_accuracy: 0.9556\n",
      "Epoch 42/60\n",
      "4/4 [==============================] - 0s 24ms/step - loss: 0.0822 - accuracy: 0.9714 - val_loss: 0.0585 - val_accuracy: 0.9556\n",
      "Epoch 43/60\n",
      "4/4 [==============================] - 0s 24ms/step - loss: 0.0861 - accuracy: 0.9619 - val_loss: 0.0538 - val_accuracy: 1.0000\n",
      "Epoch 44/60\n",
      "4/4 [==============================] - 0s 24ms/step - loss: 0.0773 - accuracy: 0.9714 - val_loss: 0.0698 - val_accuracy: 0.9556\n",
      "Epoch 45/60\n",
      "4/4 [==============================] - 0s 21ms/step - loss: 0.0691 - accuracy: 0.9905 - val_loss: 0.0783 - val_accuracy: 0.9556\n",
      "Epoch 46/60\n",
      "4/4 [==============================] - 0s 21ms/step - loss: 0.0802 - accuracy: 0.9714 - val_loss: 0.0706 - val_accuracy: 0.9556\n",
      "Epoch 47/60\n",
      "4/4 [==============================] - 0s 24ms/step - loss: 0.0981 - accuracy: 0.9619 - val_loss: 0.0750 - val_accuracy: 0.9556\n",
      "Epoch 48/60\n",
      "4/4 [==============================] - 0s 24ms/step - loss: 0.1050 - accuracy: 0.9619 - val_loss: 0.1070 - val_accuracy: 0.9556\n",
      "Epoch 49/60\n",
      "4/4 [==============================] - 0s 24ms/step - loss: 0.0698 - accuracy: 0.9810 - val_loss: 0.0684 - val_accuracy: 0.9556\n",
      "Epoch 50/60\n",
      "4/4 [==============================] - 0s 21ms/step - loss: 0.1388 - accuracy: 0.9524 - val_loss: 0.1034 - val_accuracy: 0.9556\n",
      "Epoch 51/60\n",
      "4/4 [==============================] - 0s 21ms/step - loss: 0.0910 - accuracy: 0.9524 - val_loss: 0.0660 - val_accuracy: 0.9778\n",
      "Epoch 52/60\n",
      "4/4 [==============================] - 0s 24ms/step - loss: 0.1095 - accuracy: 0.9333 - val_loss: 0.1255 - val_accuracy: 0.9556\n",
      "Epoch 53/60\n",
      "4/4 [==============================] - 0s 24ms/step - loss: 0.0741 - accuracy: 0.9810 - val_loss: 0.0583 - val_accuracy: 1.0000\n",
      "Epoch 54/60\n",
      "4/4 [==============================] - 0s 24ms/step - loss: 0.0696 - accuracy: 0.9810 - val_loss: 0.0678 - val_accuracy: 0.9556\n",
      "Epoch 55/60\n",
      "4/4 [==============================] - 0s 29ms/step - loss: 0.0683 - accuracy: 0.9905 - val_loss: 0.0606 - val_accuracy: 0.9556\n",
      "Epoch 56/60\n",
      "4/4 [==============================] - 0s 21ms/step - loss: 0.0847 - accuracy: 0.9714 - val_loss: 0.0606 - val_accuracy: 0.9556\n",
      "Epoch 57/60\n",
      "4/4 [==============================] - 0s 24ms/step - loss: 0.0696 - accuracy: 0.9810 - val_loss: 0.0810 - val_accuracy: 0.9556\n",
      "Epoch 58/60\n",
      "4/4 [==============================] - 0s 24ms/step - loss: 0.0642 - accuracy: 0.9905 - val_loss: 0.0673 - val_accuracy: 0.9556\n",
      "Epoch 59/60\n",
      "4/4 [==============================] - 0s 21ms/step - loss: 0.0580 - accuracy: 0.9905 - val_loss: 0.1011 - val_accuracy: 0.9556\n",
      "Epoch 60/60\n",
      "4/4 [==============================] - 0s 24ms/step - loss: 0.0851 - accuracy: 0.9714 - val_loss: 0.0474 - val_accuracy: 1.0000\n"
     ]
    }
   ],
   "source": [
    "#Model Training \n",
    "history = Model3.fit(X_train, y_train, epochs=60, validation_data=(X_test, y_test), verbose=1)"
   ]
  },
  {
   "cell_type": "code",
   "execution_count": 77,
   "id": "184b3560-c20b-47a2-a575-63448443cb81",
   "metadata": {},
   "outputs": [
    {
     "name": "stdout",
     "output_type": "stream",
     "text": [
      "4/4 [==============================] - 0s 5ms/step - loss: 0.0675 - accuracy: 0.9810\n"
     ]
    },
    {
     "data": {
      "text/plain": [
       "[0.06754735857248306, 0.9809523820877075]"
      ]
     },
     "execution_count": 77,
     "metadata": {},
     "output_type": "execute_result"
    }
   ],
   "source": [
    "Model3.evaluate(X_train,y_train)"
   ]
  },
  {
   "cell_type": "code",
   "execution_count": 78,
   "id": "10f7bd28-7eb5-491e-a8f8-96d551ca666a",
   "metadata": {},
   "outputs": [
    {
     "name": "stdout",
     "output_type": "stream",
     "text": [
      "2/2 [==============================] - 0s 8ms/step - loss: 0.0474 - accuracy: 1.0000\n"
     ]
    },
    {
     "data": {
      "text/plain": [
       "[0.04739754647016525, 1.0]"
      ]
     },
     "execution_count": 78,
     "metadata": {},
     "output_type": "execute_result"
    }
   ],
   "source": [
    "Model3.evaluate(X_test,y_test)"
   ]
  },
  {
   "cell_type": "code",
   "execution_count": 79,
   "id": "1a106840-f25c-43e6-a616-37f8535bf4ef",
   "metadata": {},
   "outputs": [
    {
     "data": {
      "image/png": "[encoded data removed]",
      "text/plain": [
       "<Figure size 1000x600 with 1 Axes>"
      ]
     },
     "metadata": {},
     "output_type": "display_data"
    }
   ],
   "source": [
    "#Performance Monitor\n",
    "pd.DataFrame(history.history).plot(figsize=(10,6))\n",
    "plt.grid(True)\n",
    "plt.gca().set_ylim(0, 1)\n",
    "plt.show()"
   ]
  },
  {
   "cell_type": "code",
   "execution_count": 69,
   "id": "6b8847ad-a0cb-4862-b695-f80c1d939f3c",
   "metadata": {},
   "outputs": [],
   "source": [
    "#The Model with Softmax Function(Model3) & Sigmoid Function(Model) provides the best accuracies. So anyone could be selected "
   ]
  },
  {
   "cell_type": "code",
   "execution_count": 70,
   "id": "557fd037-38b7-4864-a838-6052461cfaf2",
   "metadata": {},
   "outputs": [
    {
     "name": "stdout",
     "output_type": "stream",
     "text": [
      "1/1 [==============================] - 0s 184ms/step\n",
      "Actual data : [[1. 0. 0.]\n",
      " [1. 0. 0.]\n",
      " [1. 0. 0.]]\n",
      "0\n",
      "0\n",
      "0\n"
     ]
    }
   ],
   "source": [
    "#Predicting the Output with Model\n",
    "\n",
    "new_data, y_actual = X_test[:3], y_test[:3]\n",
    "y_proba = Model.predict(new_data)\n",
    "print(f\"Actual data : {y_actual}\")\n",
    "\n",
    "for pred in y_proba:\n",
    "    print(np.argmax(pred))"
   ]
  },
  {
   "cell_type": "code",
   "execution_count": 71,
   "id": "a0e64173-2703-4e59-9207-b384445ef8f4",
   "metadata": {},
   "outputs": [
    {
     "name": "stdout",
     "output_type": "stream",
     "text": [
      "1/1 [==============================] - 0s 136ms/step\n",
      "Actual data : [[1. 0. 0.]\n",
      " [1. 0. 0.]\n",
      " [1. 0. 0.]]\n",
      "2\n",
      "2\n",
      "2\n"
     ]
    }
   ],
   "source": [
    "#Predicting the Output with Model2\n",
    "\n",
    "new_data, y_actual = X_test[:3], y_test[:3]\n",
    "y_proba = Model2.predict(new_data)\n",
    "print(f\"Actual data : {y_actual}\")\n",
    "\n",
    "for pred in y_proba:\n",
    "    print(np.argmax(pred))"
   ]
  },
  {
   "cell_type": "code",
   "execution_count": 80,
   "id": "273171ba-f73b-4ad8-af27-31993b13af21",
   "metadata": {},
   "outputs": [
    {
     "name": "stdout",
     "output_type": "stream",
     "text": [
      "1/1 [==============================] - 0s 79ms/step\n",
      "Actual data : [[1. 0. 0.]\n",
      " [1. 0. 0.]\n",
      " [1. 0. 0.]]\n",
      "0\n",
      "0\n",
      "0\n"
     ]
    }
   ],
   "source": [
    "#Predicting the Output with Model3\n",
    "\n",
    "new_data, y_actual = X_test[:3], y_test[:3]\n",
    "y_proba = Model3.predict(new_data)\n",
    "print(f\"Actual data : {y_actual}\")\n",
    "\n",
    "for pred in y_proba:\n",
    "    print(np.argmax(pred))"
   ]
  },
  {
   "cell_type": "code",
   "execution_count": null,
   "id": "fcb36588-8a57-45a5-ac93-cc0c2b9f2123",
   "metadata": {},
   "outputs": [],
   "source": []
  }
 ],
 "metadata": {
  "kernelspec": {
   "display_name": "Python 3 (ipykernel)",
   "language": "python",
   "name": "python3"
  },
  "language_info": {
   "codemirror_mode": {
    "name": "ipython",
    "version": 3
   },
   "file_extension": ".py",
   "mimetype": "text/x-python",
   "name": "python",
   "nbconvert_exporter": "python",
   "pygments_lexer": "ipython3",
   "version": "3.11.7"
  }
 },
 "nbformat": 4,
 "nbformat_minor": 5
}
